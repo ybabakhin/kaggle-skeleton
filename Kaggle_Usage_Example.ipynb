{
 "cells": [
  {
   "cell_type": "code",
   "execution_count": 1,
   "metadata": {},
   "outputs": [],
   "source": [
    "%reload_ext autoreload\n",
    "%autoreload 2\n",
    "from kaggle import Kaggle"
   ]
  },
  {
   "cell_type": "markdown",
   "metadata": {},
   "source": [
    "### EDA Steps"
   ]
  },
  {
   "cell_type": "code",
   "execution_count": 2,
   "metadata": {},
   "outputs": [
    {
     "data": {
      "text/html": [
       "<div>\n",
       "<style scoped>\n",
       "    .dataframe tbody tr th:only-of-type {\n",
       "        vertical-align: middle;\n",
       "    }\n",
       "\n",
       "    .dataframe tbody tr th {\n",
       "        vertical-align: top;\n",
       "    }\n",
       "\n",
       "    .dataframe thead th {\n",
       "        text-align: right;\n",
       "    }\n",
       "</style>\n",
       "<table border=\"1\" class=\"dataframe\">\n",
       "  <thead>\n",
       "    <tr style=\"text-align: right;\">\n",
       "      <th></th>\n",
       "      <th>Unnamed: 0</th>\n",
       "      <th>0</th>\n",
       "      <th>1</th>\n",
       "      <th>2</th>\n",
       "      <th>3</th>\n",
       "      <th>4</th>\n",
       "      <th>5</th>\n",
       "      <th>6</th>\n",
       "      <th>7</th>\n",
       "      <th>8</th>\n",
       "      <th>...</th>\n",
       "      <th>336</th>\n",
       "      <th>337</th>\n",
       "      <th>338</th>\n",
       "      <th>339</th>\n",
       "      <th>340</th>\n",
       "      <th>341</th>\n",
       "      <th>342</th>\n",
       "      <th>343</th>\n",
       "      <th>344</th>\n",
       "      <th>345</th>\n",
       "    </tr>\n",
       "  </thead>\n",
       "  <tbody>\n",
       "    <tr>\n",
       "      <th>0</th>\n",
       "      <td>0</td>\n",
       "      <td>1</td>\n",
       "      <td>1</td>\n",
       "      <td>0</td>\n",
       "      <td>0</td>\n",
       "      <td>0</td>\n",
       "      <td>0</td>\n",
       "      <td>0</td>\n",
       "      <td>0.090909</td>\n",
       "      <td>0</td>\n",
       "      <td>...</td>\n",
       "      <td>0.221395</td>\n",
       "      <td>0</td>\n",
       "      <td>1</td>\n",
       "      <td>0</td>\n",
       "      <td>0</td>\n",
       "      <td>0.222222</td>\n",
       "      <td>1</td>\n",
       "      <td>1</td>\n",
       "      <td>1</td>\n",
       "      <td>1</td>\n",
       "    </tr>\n",
       "  </tbody>\n",
       "</table>\n",
       "<p>1 rows × 347 columns</p>\n",
       "</div>"
      ],
      "text/plain": [
       "   Unnamed: 0  0  1  2  3  4  5  6         7  8 ...        336  337  338  339  \\\n",
       "0           0  1  1  0  0  0  0  0  0.090909  0 ...   0.221395    0    1    0   \n",
       "\n",
       "   340       341  342  343  344  345  \n",
       "0    0  0.222222    1    1    1    1  \n",
       "\n",
       "[1 rows x 347 columns]"
      ]
     },
     "execution_count": 2,
     "metadata": {},
     "output_type": "execute_result"
    }
   ],
   "source": [
    "# Create Kaggle Object\n",
    "kag = Kaggle(data_path='data/', metric='auc')\n",
    "# Read Train Data\n",
    "kag.read_train_data(train_name='train.csv', sep='\\t', target_colname=None, id_colname=None)\n",
    "# Perform EDA on Train Data\n",
    "kag.df_train.head(1)"
   ]
  },
  {
   "cell_type": "code",
   "execution_count": 3,
   "metadata": {},
   "outputs": [],
   "source": [
    "# Read Test Data if needed\n",
    "kag.read_train_data(train_name='test.csv', sep='\\t', target_colname=None, id_colname=None)"
   ]
  },
  {
   "cell_type": "markdown",
   "metadata": {},
   "source": [
    "### Validation Steps"
   ]
  },
  {
   "cell_type": "code",
   "execution_count": 4,
   "metadata": {},
   "outputs": [],
   "source": [
    "# Create Kaggle Object\n",
    "kag = Kaggle(data_path='data/', metric='auc')\n",
    "# Read Train Data with Target and ID columns already known\n",
    "kag.read_train_data(train_name='train.csv', sep='\\t', target_colname='0', id_colname='Unnamed: 0')"
   ]
  },
  {
   "cell_type": "code",
   "execution_count": 5,
   "metadata": {},
   "outputs": [],
   "source": [
    "# Create validation splits and save them\n",
    "kag.create_validation_split(n_folds=5, stratified=False)"
   ]
  },
  {
   "cell_type": "code",
   "execution_count": 6,
   "metadata": {},
   "outputs": [],
   "source": [
    "# Perform FE which does not depend on Train/Test split\n",
    "kag.general_feature_engineering(train_only=True)"
   ]
  },
  {
   "cell_type": "code",
   "execution_count": 7,
   "metadata": {},
   "outputs": [
    {
     "name": "stdout",
     "output_type": "stream",
     "text": [
      "************************** FOLD 1 **************************\n",
      "[0]\ttrain-auc:0.72341+0.00464833\ttest-auc:0.690028+0.00933701\n",
      "[50]\ttrain-auc:0.876934+0.00454843\ttest-auc:0.725266+0.00696124\n"
     ]
    },
    {
     "name": "stderr",
     "output_type": "stream",
     "text": [
      "/usr/local/lib/python3.5/dist-packages/numpy/core/fromnumeric.py:52: FutureWarning: 'argmax' is deprecated. Use 'idxmax' instead. The behavior of 'argmax' will be corrected to return the positional maximum in the future. Use 'series.values.argmax' to get the position of the maximum now.\n",
      "  return getattr(obj, method)(*args, **kwds)\n"
     ]
    },
    {
     "name": "stdout",
     "output_type": "stream",
     "text": [
      "Best Iteration: 60\n",
      "0.7458752423515378\n",
      "************************** FOLD 2 **************************\n",
      "[0]\ttrain-auc:0.726342+0.00366855\ttest-auc:0.688941+0.00140703\n",
      "[50]\ttrain-auc:0.879546+0.0029343\ttest-auc:0.729213+0.0031834\n",
      "[100]\ttrain-auc:0.9343+0.000927095\ttest-auc:0.729638+0.00225026\n",
      "Best Iteration: 87\n",
      "0.7332484322367749\n",
      "************************** FOLD 3 **************************\n",
      "[0]\ttrain-auc:0.717133+0.0119537\ttest-auc:0.681674+0.00923283\n",
      "[50]\ttrain-auc:0.876646+0.00367825\ttest-auc:0.730528+0.00483306\n",
      "[100]\ttrain-auc:0.934798+0.00268595\ttest-auc:0.730951+0.00356462\n",
      "Best Iteration: 127\n",
      "0.7380085132259045\n",
      "************************** FOLD 4 **************************\n",
      "[0]\ttrain-auc:0.725549+0.00238688\ttest-auc:0.688564+0.00067813\n",
      "[50]\ttrain-auc:0.877899+0.00399425\ttest-auc:0.730316+0.00482027\n",
      "Best Iteration: 63\n",
      "0.7344492421612866\n",
      "************************** FOLD 5 **************************\n",
      "[0]\ttrain-auc:0.724051+0.000509871\ttest-auc:0.685681+0.00681387\n",
      "[50]\ttrain-auc:0.879152+0.00183171\ttest-auc:0.731255+0.00593175\n",
      "[100]\ttrain-auc:0.93326+0.000990828\ttest-auc:0.731341+0.00814296\n",
      "Best Iteration: 70\n",
      "0.7402446413652661\n",
      "auc mean: 0.73837, auc std: 0.00451, auc overall: 0.73386\n",
      "ALL FOLDS: [0.74588, 0.73325, 0.73801, 0.73445, 0.74024]\n"
     ]
    }
   ],
   "source": [
    "# Run Single (e.g. XGBoost) model. With additional FE inside folds.\n",
    "params = {'booster': 'gbtree',\n",
    "            'eta': .1,\n",
    "            'colsample_bytree': 0.8,\n",
    "            'subsample': 0.8,\n",
    "            'seed': 123,\n",
    "            'nthread': 3,\n",
    "            'max_depth': 6,\n",
    "            'min_child_weight': 1,\n",
    "            'objective': 'binary:logistic',\n",
    "            'eval_metric': 'auc',\n",
    "            'silent': 1\n",
    "        }\n",
    "score_mean, score_std, overall_score = kag.run_single_model_validation(model_name='xgboost',\n",
    "                                                                       params=params, \n",
    "                                                                       oof_preds_path='')"
   ]
  },
  {
   "cell_type": "code",
   "execution_count": 8,
   "metadata": {},
   "outputs": [],
   "source": [
    "# # Find best params with a higher LR (for a speed). Takes loong time\n",
    "# best_params = kag.find_optimal_params(model_name='xgboost')\n",
    "\n",
    "# # Rerun model with best params and LR corrected\n",
    "# best_params['eta'] = 0.1\n",
    "# kag.run_single_model_validation(model_name='xgboost', params=best_params, oof_preds_path='')"
   ]
  },
  {
   "cell_type": "markdown",
   "metadata": {},
   "source": [
    "### 2nd Level Modeling"
   ]
  },
  {
   "cell_type": "code",
   "execution_count": 9,
   "metadata": {},
   "outputs": [
    {
     "name": "stdout",
     "output_type": "stream",
     "text": [
      "************************** FOLD 1 **************************\n",
      "[0]\ttrain-auc:0.72341+0.00464833\ttest-auc:0.690028+0.00933701\n",
      "[50]\ttrain-auc:0.876934+0.00454843\ttest-auc:0.725266+0.00696124\n"
     ]
    },
    {
     "name": "stderr",
     "output_type": "stream",
     "text": [
      "/usr/local/lib/python3.5/dist-packages/numpy/core/fromnumeric.py:52: FutureWarning: 'argmax' is deprecated. Use 'idxmax' instead. The behavior of 'argmax' will be corrected to return the positional maximum in the future. Use 'series.values.argmax' to get the position of the maximum now.\n",
      "  return getattr(obj, method)(*args, **kwds)\n"
     ]
    },
    {
     "name": "stdout",
     "output_type": "stream",
     "text": [
      "Best Iteration: 60\n",
      "0.7458752423515378\n",
      "************************** FOLD 2 **************************\n",
      "[0]\ttrain-auc:0.726342+0.00366855\ttest-auc:0.688941+0.00140703\n",
      "[50]\ttrain-auc:0.879546+0.0029343\ttest-auc:0.729213+0.0031834\n",
      "[100]\ttrain-auc:0.9343+0.000927095\ttest-auc:0.729638+0.00225026\n",
      "Best Iteration: 87\n",
      "0.7332484322367749\n",
      "************************** FOLD 3 **************************\n",
      "[0]\ttrain-auc:0.717133+0.0119537\ttest-auc:0.681674+0.00923283\n",
      "[50]\ttrain-auc:0.876646+0.00367825\ttest-auc:0.730528+0.00483306\n",
      "[100]\ttrain-auc:0.934798+0.00268595\ttest-auc:0.730951+0.00356462\n",
      "Best Iteration: 127\n",
      "0.7380085132259045\n",
      "************************** FOLD 4 **************************\n",
      "[0]\ttrain-auc:0.725549+0.00238688\ttest-auc:0.688564+0.00067813\n",
      "[50]\ttrain-auc:0.877899+0.00399425\ttest-auc:0.730316+0.00482027\n",
      "Best Iteration: 63\n",
      "0.7344492421612866\n",
      "************************** FOLD 5 **************************\n",
      "[0]\ttrain-auc:0.724051+0.000509871\ttest-auc:0.685681+0.00681387\n",
      "[50]\ttrain-auc:0.879152+0.00183171\ttest-auc:0.731255+0.00593175\n",
      "[100]\ttrain-auc:0.93326+0.000990828\ttest-auc:0.731341+0.00814296\n",
      "Best Iteration: 70\n",
      "0.7402446413652661\n",
      "auc mean: 0.73837, auc std: 0.00451, auc overall: 0.73386\n",
      "ALL FOLDS: [0.74588, 0.73325, 0.73801, 0.73445, 0.74024]\n",
      "************************** FOLD 1 **************************\n",
      "[50]\tcv_agg's auc: 0.726617 + 0.00743435\n",
      "[100]\tcv_agg's auc: 0.729031 + 0.00575808\n",
      "Best Iteration: 121\n",
      "0.7444339723551009\n",
      "************************** FOLD 2 **************************\n",
      "[50]\tcv_agg's auc: 0.730124 + 0.00322483\n",
      "[100]\tcv_agg's auc: 0.73188 + 0.00145833\n",
      "[150]\tcv_agg's auc: 0.732903 + 0.00143023\n",
      "[200]\tcv_agg's auc: 0.732567 + 0.00245728\n",
      "Best Iteration: 225\n",
      "0.7344257920437461\n",
      "************************** FOLD 3 **************************\n",
      "[50]\tcv_agg's auc: 0.728805 + 0.00403659\n",
      "[100]\tcv_agg's auc: 0.731112 + 0.00267961\n",
      "[150]\tcv_agg's auc: 0.73027 + 0.00148354\n",
      "Best Iteration: 159\n",
      "0.7362433490422621\n",
      "************************** FOLD 4 **************************\n",
      "[50]\tcv_agg's auc: 0.728198 + 0.0055245\n",
      "[100]\tcv_agg's auc: 0.731003 + 0.00523603\n",
      "[150]\tcv_agg's auc: 0.731275 + 0.00524347\n",
      "Best Iteration: 166\n",
      "0.7330027073932662\n",
      "************************** FOLD 5 **************************\n",
      "[50]\tcv_agg's auc: 0.728458 + 0.0119731\n",
      "[100]\tcv_agg's auc: 0.729342 + 0.0115767\n",
      "[150]\tcv_agg's auc: 0.729262 + 0.0115454\n",
      "Best Iteration: 175\n",
      "0.7365599000939883\n",
      "auc mean: 0.73693, auc std: 0.00397, auc overall: 0.73297\n",
      "ALL FOLDS: [0.74443, 0.73443, 0.73624, 0.733, 0.73656]\n"
     ]
    },
    {
     "data": {
      "text/plain": [
       "(0.73693, 0.00397, 0.73297)"
      ]
     },
     "execution_count": 9,
     "metadata": {},
     "output_type": "execute_result"
    }
   ],
   "source": [
    "# Create Kaggle Object\n",
    "kag = Kaggle(data_path='data/', metric='auc')\n",
    "# Read Train Data with Target and ID columns already known\n",
    "kag.read_train_data(train_name='train.csv', sep='\\t', target_colname='0', id_colname='Unnamed: 0')\n",
    "# Perform FE which does not depend on Train/Test split\n",
    "kag.general_feature_engineering(train_only=True)\n",
    "\n",
    "# Run Single Models and Save OOF predictions\n",
    "xgb_params = {'booster': 'gbtree',\n",
    "            'eta': .1,\n",
    "            'colsample_bytree': 0.8,\n",
    "            'subsample': 0.8,\n",
    "            'seed': 123,\n",
    "            'nthread': 3,\n",
    "            'max_depth': 6,\n",
    "            'min_child_weight': 1,\n",
    "            'objective': 'binary:logistic',\n",
    "            'eval_metric': 'auc',\n",
    "            'silent': 1\n",
    "        }\n",
    "kag.run_single_model_validation(model_name='xgboost',\n",
    "                                params=xgb_params,\n",
    "                                oof_preds_path='oof_preds_level_1/xgboost_0.csv')\n",
    "\n",
    "lgb_params = {\n",
    "        'boosting_type': 'gbdt',\n",
    "        'objective': 'binary',\n",
    "        'metric': 'auc',\n",
    "        'num_leaves': 8,\n",
    "        'learning_rate': 0.1,\n",
    "        'feature_fraction': 0.9,\n",
    "        'bagging_fraction': 0.8,\n",
    "        'bagging_freq': 5,\n",
    "        'verbose': 0\n",
    "        }  \n",
    "kag.run_single_model_validation(model_name='lightgbm',\n",
    "                                params=lgb_params,\n",
    "                                oof_preds_path='oof_preds_level_1/lightgbm_0.csv')"
   ]
  },
  {
   "cell_type": "code",
   "execution_count": 10,
   "metadata": {},
   "outputs": [
    {
     "name": "stdout",
     "output_type": "stream",
     "text": [
      "************************** FOLD 1 **************************\n",
      "0.7487024408350564\n",
      "************************** FOLD 2 **************************\n",
      "0.7368546789896248\n",
      "************************** FOLD 3 **************************\n",
      "0.7420741486774094\n",
      "************************** FOLD 4 **************************\n",
      "0.7368555362721276\n",
      "************************** FOLD 5 **************************\n",
      "0.742443048641812\n",
      "auc mean: 0.74139, auc std: 0.00439, auc overall: 0.737\n",
      "ALL FOLDS: [0.7487, 0.73685, 0.74207, 0.73686, 0.74244]\n"
     ]
    },
    {
     "data": {
      "text/plain": [
       "(0.74139, 0.00439, 0.737)"
      ]
     },
     "execution_count": 10,
     "metadata": {},
     "output_type": "execute_result"
    }
   ],
   "source": [
    "# Run Second Level Model\n",
    "kag.run_stacked_model_validation(model_name='logistic_regression',\n",
    "                                 params=None,\n",
    "                                 prev_level_fold='oof_preds_level_1/',\n",
    "                                 oof_preds_path='')"
   ]
  },
  {
   "cell_type": "markdown",
   "metadata": {},
   "source": [
    "### Stacked Model Test Prediction"
   ]
  },
  {
   "cell_type": "code",
   "execution_count": 24,
   "metadata": {},
   "outputs": [
    {
     "name": "stdout",
     "output_type": "stream",
     "text": [
      "[0]\ttrain-auc:0.722864+0.00421065\ttest-auc:0.694596+0.00834651\n",
      "[50]\ttrain-auc:0.860283+0.00145325\ttest-auc:0.734999+0.00547926\n",
      "[100]\ttrain-auc:0.916391+0.0017179\ttest-auc:0.735714+0.00511333\n"
     ]
    },
    {
     "name": "stderr",
     "output_type": "stream",
     "text": [
      "/usr/local/lib/python3.5/dist-packages/numpy/core/fromnumeric.py:52: FutureWarning: 'argmax' is deprecated. Use 'idxmax' instead. The behavior of 'argmax' will be corrected to return the positional maximum in the future. Use 'series.values.argmax' to get the position of the maximum now.\n",
      "  return getattr(obj, method)(*args, **kwds)\n"
     ]
    },
    {
     "name": "stdout",
     "output_type": "stream",
     "text": [
      "Best Iteration: 144\n",
      "[50]\tcv_agg's auc: 0.730732 + 0.0023251\n",
      "[100]\tcv_agg's auc: 0.734091 + 0.00202989\n",
      "[150]\tcv_agg's auc: 0.735014 + 0.00177441\n",
      "[200]\tcv_agg's auc: 0.734382 + 0.00180827\n",
      "Best Iteration: 225\n"
     ]
    },
    {
     "data": {
      "text/html": [
       "<div>\n",
       "<style scoped>\n",
       "    .dataframe tbody tr th:only-of-type {\n",
       "        vertical-align: middle;\n",
       "    }\n",
       "\n",
       "    .dataframe tbody tr th {\n",
       "        vertical-align: top;\n",
       "    }\n",
       "\n",
       "    .dataframe thead th {\n",
       "        text-align: right;\n",
       "    }\n",
       "</style>\n",
       "<table border=\"1\" class=\"dataframe\">\n",
       "  <thead>\n",
       "    <tr style=\"text-align: right;\">\n",
       "      <th></th>\n",
       "      <th>index</th>\n",
       "      <th>stack_pred</th>\n",
       "    </tr>\n",
       "  </thead>\n",
       "  <tbody>\n",
       "    <tr>\n",
       "      <th>0</th>\n",
       "      <td>0</td>\n",
       "      <td>0.761878</td>\n",
       "    </tr>\n",
       "    <tr>\n",
       "      <th>1</th>\n",
       "      <td>1</td>\n",
       "      <td>0.147439</td>\n",
       "    </tr>\n",
       "    <tr>\n",
       "      <th>2</th>\n",
       "      <td>2</td>\n",
       "      <td>0.129632</td>\n",
       "    </tr>\n",
       "    <tr>\n",
       "      <th>3</th>\n",
       "      <td>3</td>\n",
       "      <td>0.127195</td>\n",
       "    </tr>\n",
       "    <tr>\n",
       "      <th>4</th>\n",
       "      <td>4</td>\n",
       "      <td>0.682124</td>\n",
       "    </tr>\n",
       "  </tbody>\n",
       "</table>\n",
       "</div>"
      ],
      "text/plain": [
       "   index  stack_pred\n",
       "0      0    0.761878\n",
       "1      1    0.147439\n",
       "2      2    0.129632\n",
       "3      3    0.127195\n",
       "4      4    0.682124"
      ]
     },
     "execution_count": 24,
     "metadata": {},
     "output_type": "execute_result"
    }
   ],
   "source": [
    "kag = Kaggle(data_path='data/', metric='auc')\n",
    "kag.read_train_data(train_name='train.csv', sep='\\t', target_colname='0', id_colname='Unnamed: 0')\n",
    "kag.read_test_data(test_name='train.csv')\n",
    "kag.general_feature_engineering(train_only=False)\n",
    "\n",
    "xgb_params = {'booster': 'gbtree',\n",
    "            'eta': .1,\n",
    "            'colsample_bytree': 0.8,\n",
    "            'subsample': 0.8,\n",
    "            'seed': 123,\n",
    "            'nthread': 3,\n",
    "            'max_depth': 6,\n",
    "            'min_child_weight': 1,\n",
    "            'objective': 'binary:logistic',\n",
    "            'eval_metric': 'auc',\n",
    "            'silent': 1\n",
    "        }\n",
    "\n",
    "test_preds_1 = kag.get_single_model_test_prediction(model_name='xgboost',\n",
    "                                                    params=xgb_params,\n",
    "                                                    preds_path='test_preds_level_1/xgboost_0.csv')\n",
    "\n",
    "lgb_params = {\n",
    "        'boosting_type': 'gbdt',\n",
    "        'objective': 'binary',\n",
    "        'metric': 'auc',\n",
    "        'num_leaves': 8,\n",
    "        'learning_rate': 0.1,\n",
    "        'feature_fraction': 0.9,\n",
    "        'bagging_fraction': 0.8,\n",
    "        'bagging_freq': 5,\n",
    "        'verbose': 0\n",
    "        }  \n",
    "test_preds_2 = kag.get_single_model_test_prediction(model_name='lightgbm',\n",
    "                                                    params=lgb_params,\n",
    "                                                    preds_path='test_preds_level_1/lightgbm_0.csv')\n",
    "\n",
    "# Run Second Level Model\n",
    "test_preds = kag.get_stacked_model_test_prediction(model_name='logistic_regression',\n",
    "                                               params=None,\n",
    "                                               prev_level_test_fold='test_preds_level_1/',\n",
    "                                               preds_path='test_preds_level_2/stack_pred.csv')\n",
    "test_preds.head()"
   ]
  }
 ],
 "metadata": {
  "kernelspec": {
   "display_name": "Python 3",
   "language": "python",
   "name": "python3"
  },
  "language_info": {
   "codemirror_mode": {
    "name": "ipython",
    "version": 3
   },
   "file_extension": ".py",
   "mimetype": "text/x-python",
   "name": "python",
   "nbconvert_exporter": "python",
   "pygments_lexer": "ipython3",
   "version": "3.5.2"
  }
 },
 "nbformat": 4,
 "nbformat_minor": 2
}
